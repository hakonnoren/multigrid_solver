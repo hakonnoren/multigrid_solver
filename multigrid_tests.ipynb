{
 "cells": [
  {
   "cell_type": "markdown",
   "metadata": {},
   "source": [
    "# Multigrid methods for solving the Poission equation\n",
    "\n",
    "*Author:  Håkon Noren*\n",
    "\n",
    "*Date: 31.10.2020*\n",
    "\n",
    "**Abstract:** This report presents and analyses the performance of a python library for the multigrid algorithm for solving linear systems of equations. In particular, we study the discretized 2D Poisson equation and compares the performance three different solvers: the conjugate gradient, the multigrid and the conjugate gradient preconditionted with multigrid iterations. \n",
    "\n",
    "**Content**\n",
    "\n",
    "1. Conjugate gradient\n",
    "2. Multigrid\n",
    "3. Multigrid preconditioner for conjugate gradient\n",
    "4. Convergence metrics"
   ]
  },
  {
   "cell_type": "code",
   "execution_count": null,
   "metadata": {},
   "outputs": [],
   "source": [
    "from multigrid import plot2D\n",
    "\n",
    "#size of the first test problems\n",
    "N_start = 32\n",
    "\n",
    "#Number of test problems to run. Each test problem doubles in size.\n",
    "n_tests = 4\n",
    "\n",
    "#Tolerance defining convergence criteria measured in the relative residual.\n",
    "tol = 1e-12\n",
    "\n",
    "#Number of presmoothings by the Jacobi method in mgv and pcg\n",
    "nu1 = 2\n",
    "\n",
    "#Number of postsmoothings by the Jacobi method in mgv and pcg\n",
    "nu2 = 2\n",
    "\n",
    "#Plots the largest solution and initial guess for each method\n",
    "plotU = True\n",
    "\n",
    "#Plots the solution for the five first iteerations for mgv and pcg\n",
    "plot5 = False"
   ]
  },
  {
   "cell_type": "markdown",
   "metadata": {},
   "source": [
    "## 1. Conjugate gradient\n",
    "\n",
    "Testing convergence of the conjugate gradient algorithm for various problem sizes. The algorithm solves the test problem given by\n",
    "\n",
    "\\begin{align}\n",
    "f(x,y) &= 20\\pi^2\\sin(2\\pi x)\\sin(4\\pi y), \\\\\n",
    "g(x,y) &= \\sin(2\\pi x)\\sin(4\\pi y)\n",
    "\\end{align}"
   ]
  },
  {
   "cell_type": "code",
   "execution_count": null,
   "metadata": {},
   "outputs": [],
   "source": [
    "from multigrid import test_cg\n",
    "u,N,table_cg = test_cg(N_start,n_tests,tol)"
   ]
  },
  {
   "cell_type": "code",
   "execution_count": null,
   "metadata": {},
   "outputs": [],
   "source": [
    "if plotU:\n",
    "    plot2D(N,u,title = \"CG Solution of Poission problem, N = \" + str(N))"
   ]
  },
  {
   "cell_type": "markdown",
   "metadata": {},
   "source": [
    "## 2. Multigrid V-cycle\n",
    "\n",
    "Testing convergence of multiple iterations with the multigrid V-cyle algorithm for various problem sizes. The algorithm solves the test problem given by\n",
    "\n",
    "\\begin{align}\n",
    "f(x,y) &= -1, \\\\\n",
    "g(0,y) &= 4y(1-y),\\\\\n",
    "g(1,y) &= g(x,0) = g(x,1) = 0\n",
    "\\end{align}"
   ]
  },
  {
   "cell_type": "code",
   "execution_count": null,
   "metadata": {},
   "outputs": [],
   "source": [
    "from multigrid import test_mgv\n",
    "u,u0,N,table_mgv = test_mgv(N_start,n_tests,nu1,nu2,tol,plot5)"
   ]
  },
  {
   "cell_type": "code",
   "execution_count": null,
   "metadata": {},
   "outputs": [],
   "source": [
    "if plotU:\n",
    "    plot2D(N,u0,title= \"MGV Initial guess, N = \" + str(N))\n",
    "    plot2D(N,u,title = \"MGV Solution of Poission problem, N = \" + str(N))"
   ]
  },
  {
   "cell_type": "markdown",
   "metadata": {},
   "source": [
    "## 3. Multigrid preconditioner for conjugate gradient\n",
    "\n",
    "Testing convergence of multiple iterations using the multigrid method as a preconditioner for conjugate gradient. The algorithm solves the test problem given by\n",
    "\n",
    "\\begin{align}\n",
    "f(x,y) &= -1, \\\\\n",
    "g(0,y) &= 4y(1-y),\\\\\n",
    "g(1,y) &= g(x,0) = g(x,1) = 0\n",
    "\\end{align}"
   ]
  },
  {
   "cell_type": "code",
   "execution_count": null,
   "metadata": {},
   "outputs": [],
   "source": [
    "from multigrid import test_pcg\n",
    "u,u0,N,table_pcg = test_pcg(N_start,n_tests,nu1,nu2,tol,plot5)"
   ]
  },
  {
   "cell_type": "code",
   "execution_count": null,
   "metadata": {},
   "outputs": [],
   "source": [
    "if plotU:\n",
    "    plot2D(N,u0,title= \"PCG Initial guess, N = \" + str(N))\n",
    "    plot2D(N,u,title = \"PCG Solution of Poission problem, N = \" + str(N))"
   ]
  },
  {
   "cell_type": "markdown",
   "metadata": {},
   "source": [
    "## 4. Convergence metrics\n",
    "\n",
    "Below you will find tables allowing for a comparison of number of iterations and the computational time for the different algorithms. Notice in particular the superiority of the preconditioned conjugate gradient algorithm both in terms of time and number of iterations. "
   ]
  },
  {
   "cell_type": "code",
   "execution_count": null,
   "metadata": {},
   "outputs": [],
   "source": [
    "print(\"Conjugate gradient\")\n",
    "display(table_cg)\n",
    "print(\"Multigrid\")\n",
    "display(table_mgv)\n",
    "print(\"Preconditioned conjugate gradient\")\n",
    "display(table_pcg)"
   ]
  }
 ],
 "metadata": {
  "kernelspec": {
   "display_name": "Python 3",
   "language": "python",
   "name": "python3"
  },
  "language_info": {
   "codemirror_mode": {
    "name": "ipython",
    "version": 3
   },
   "file_extension": ".py",
   "mimetype": "text/x-python",
   "name": "python",
   "nbconvert_exporter": "python",
   "pygments_lexer": "ipython3",
   "version": "3.7.6"
  }
 },
 "nbformat": 4,
 "nbformat_minor": 4
}
